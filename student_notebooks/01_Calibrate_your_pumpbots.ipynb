{
 "cells": [
  {
   "cell_type": "markdown",
   "metadata": {},
   "source": [
    "# Welcome!\n",
    "\n",
    "Welcome to the first Jupyter notebook in the AI-orchestrated self-driving labs (47332) course. \n",
    "We will be using the Jupyter notebooks throughout the course. \n",
    "\n",
    "Since you are reading this, you have (probably) have managed to \n",
    "\n",
    "1.  install `PumpController` and `Odyssey` packages \n",
    "2.  download the notebooks for the course\n",
    "3.  receive your pumpbot.\n",
    "\n",
    "You will get some basic information about course exercises in this notebook (consider it a teaser) with significantly \n",
    "more to follow next week. \n",
    "\n",
    "**The main purpose of this notebook is to verify that you can use the course software and that you can communicate \n",
    "with the robot.**"
   ]
  },
  {
   "cell_type": "markdown",
   "metadata": {},
   "source": [
    "## Exercise 0.1: Verify access to the PumpController"
   ]
  },
  {
   "cell_type": "markdown",
   "metadata": {},
   "source": [
    "We will now test to see if you have the `PumpController` and can establish a connection with your pumpbot. \n",
    "\n",
    "Import the necessary modules for the `PumpController`"
   ]
  },
  {
   "cell_type": "code",
   "execution_count": 1,
   "metadata": {},
   "outputs": [],
   "source": [
    "from pump_controller import PumpController, get_serial_port, list_serial_ports\n",
    "from pump_controller import visualize_rgb, visualize_candidates\n",
    "import time\n",
    "import numpy as np"
   ]
  },
  {
   "cell_type": "markdown",
   "metadata": {},
   "source": [
    "If you run the command above without any error messages, it means that you have successfully installed the `PumpController`."
   ]
  },
  {
   "cell_type": "markdown",
   "metadata": {},
   "source": [
    "## Exercise 0.2: Establish connection to your pumpbot"
   ]
  },
  {
   "cell_type": "markdown",
   "metadata": {},
   "source": [
    "Now we initialize the calibratebot. \n",
    "\n",
    "We need to figure out which port that the controller is connected to your computer. The `get_serial_port()` function should automatically do this for you, but things have a way of failing when you need them not to. That is why you can call the `list_serial_ports()` function to see all the ports on your computer, and you can simply use the correct port as a string input instead of using the `get_serial_port` function, if the command below does not work. \n",
    "\n",
    "The `cell_volume` and `drain_time` properties are already defined to 20 mL and 20 seconds, respectively, but you have the option of changing them here. Notice that a folder called *logs* is created with a file with the current timestamp in it - this is where the colors that you mix on this controller in this session will be stored.\n",
    "\n",
    "\n",
    "We start with the `config_template.json` file as the `config_file` to begin with, but we will make our own in this tutorial."
   ]
  },
  {
   "cell_type": "markdown",
   "metadata": {},
   "source": [
    "Let's runn the initialization command below."
   ]
  },
  {
   "cell_type": "code",
   "execution_count": null,
   "metadata": {},
   "outputs": [],
   "source": [
    "calibratebot = PumpController(ser_port = get_serial_port(), cell_volume = 20, drain_time = 20, config_file = 'config_files/config_template.json')"
   ]
  },
  {
   "cell_type": "markdown",
   "metadata": {},
   "source": [
    "If you have successfully initialized the pumpbot, you will see the \"Arduino is ready\" message. If the \"Arduino is ready\" message doesn't show up immediately, press the reset button on the Arduino.\n",
    "\n",
    "Do you see the message? If so, you are now ready to move on to the next step.\n"
   ]
  },
  {
   "cell_type": "markdown",
   "metadata": {},
   "source": [
    "## Exercise 0.3: Controlling the pumps of your pumpbot"
   ]
  },
  {
   "cell_type": "markdown",
   "metadata": {},
   "source": [
    "For calibrating the pumps, we will not be using the test cell, but running the liquid from the respective bottles into a bottle on the scale. So removing the hoses from the test cell and place such that they dispense onto a bottle on the weighing scale."
   ]
  },
  {
   "cell_type": "markdown",
   "metadata": {},
   "source": [
    "Before doing anything else, we should purge all the pumps. This means filling all of the tubes with their respective liquids. We do this by using the `purge_pump` function, which takes the pump name ('R', 'G', 'B', 'Y', 'W', 'D') and the time (in seconds) to run the pump, as variables. \n",
    "\n",
    "As you can probably guess, the names correspond to the following:\n",
    "\n",
    "* 'R': red\n",
    "* 'G': green\n",
    "* 'B': blue\n",
    "* 'Y': yellow\n",
    "* 'W': water\n",
    "* 'D': drain\n",
    "   \n",
    "Do this one-by-one until all tubes are filled with liquid. The drain tubes of course do not need to be purged. \n",
    "\n",
    "After purging the red, green, blue, yellow and water pumps, empty the weighing bottle."
   ]
  },
  {
   "cell_type": "code",
   "execution_count": null,
   "metadata": {},
   "outputs": [],
   "source": [
    "calibratebot.purge_pump('R', 3)\n",
    "\n",
    "# calibratebot.purge_pump('G', 3)\n",
    "# calibratebot.purge_pump('B', 3)\n",
    "# calibratebot.purge_pump('Y', 3)\n",
    "# calibratebot.purge_pump('W', 3)\n",
    "\n",
    "# Drain:\n",
    "# calibratebot.drain()\n",
    "\n",
    "# Drain for custom time (if required):\n",
    "# calibratebot.drain(drain_time = 10)\n",
    "\n",
    "# Flush:\n",
    "# calibratebot.flush()"
   ]
  },
  {
   "cell_type": "markdown",
   "metadata": {},
   "source": [
    "## Exercise 0.4: Calibrating the pumps"
   ]
  },
  {
   "cell_type": "markdown",
   "metadata": {},
   "source": [
    "Now we want to calibrate the pumps. We need to figure out how many mL of water comes out of the pump for every second that we run it. We do this by running the pump for certains amounts of times and weigh the amount of liquid that is output. We can then do a linear regression in Excel to find the slope and the offset for each pump. As each pump is different, these values will also be different. \n",
    "\n",
    "\n",
    "The `calibration_test` function cycles through different amounts of time of running the pumps, and waits for 5 seconds. In these 5 seconds, your job is to read the measurement on the weighing scale and note it down in the Excel sheet."
   ]
  },
  {
   "cell_type": "code",
   "execution_count": null,
   "metadata": {},
   "outputs": [],
   "source": [
    "times = [0.1, 0.2, 0.4, 0.8, 1.0, 1.6, 2.0, 2.5, 3.0, 5.0, 7.0, 8.0]\n",
    "\n",
    "def calibration_test(pump, times):\n",
    "    for t in times:\n",
    "        calibratebot.purge_pump(pump, t)\n",
    "        print(f\"sleeping after {t} on {pump}\")\n",
    "        print(\"-----------\")\n",
    "        print()\n",
    "        \n",
    "        time.sleep(t + 5.0)"
   ]
  },
  {
   "cell_type": "markdown",
   "metadata": {},
   "source": [
    "Let us run the calibration now! \n",
    "\n",
    "Open up the `calibrate_files/pump_calibration_template.xlsx` file and get ready to note down the weights. Optimally, you should do three calibrations for each pump - this results in 6 x 3 = 18 calibrations. If you are pressed for time, just do one calibration per pump and copy the results to the other columns for the same pump. \n",
    "\n",
    "Finally, you can take the average `a` (slope) and `b` (intercept) values on the `Main` page of the Excel sheet and write them into a `config.json file`. A template for this is given in `config_files/config_template.json`. Do not change the `pin` values for the different pumps!"
   ]
  },
  {
   "cell_type": "code",
   "execution_count": null,
   "metadata": {},
   "outputs": [],
   "source": [
    "calibration_test('R', times)\n",
    "\n",
    "# calibration_test('G', times)\n",
    "# calibration_test('B', times)\n",
    "# calibration_test('Y', times)\n",
    "# calibration_test('W', times)\n",
    "# calibration_test('D', times)"
   ]
  },
  {
   "cell_type": "markdown",
   "metadata": {},
   "source": [
    "Take these calibration slope and intercept values for each of the pumps, and note them down in the `config.json` file"
   ]
  },
  {
   "cell_type": "markdown",
   "metadata": {},
   "source": []
  }
 ],
 "metadata": {
  "kernelspec": {
   "display_name": "Python 3",
   "language": "python",
   "name": "python3"
  },
  "language_info": {
   "codemirror_mode": {
    "name": "ipython",
    "version": 3
   },
   "file_extension": ".py",
   "mimetype": "text/x-python",
   "name": "python",
   "nbconvert_exporter": "python",
   "pygments_lexer": "ipython3",
   "version": "3.10.13"
  }
 },
 "nbformat": 4,
 "nbformat_minor": 2
}
