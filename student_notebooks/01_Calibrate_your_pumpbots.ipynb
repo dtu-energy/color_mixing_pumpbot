{
 "cells": [
  {
   "cell_type": "markdown",
   "metadata": {},
   "source": [
    "Import the necessary modules for the **PumpController**"
   ]
  },
  {
   "cell_type": "code",
   "execution_count": null,
   "metadata": {},
   "outputs": [],
   "source": [
    "from pump_controller import PumpController, get_serial_port, list_serial_ports\n",
    "from pump_controller import visualize_rgb, visualize_candidates\n",
    "import time\n",
    "import numpy as np"
   ]
  },
  {
   "cell_type": "markdown",
   "metadata": {},
   "source": [
    "### Calibrations"
   ]
  },
  {
   "cell_type": "markdown",
   "metadata": {},
   "source": [
    "Now we initialize the calibratebot. We need to figure out which port that the controller is connected to your computer. The `get_serial_port` should automatically do this for you, but things have a way of failing when you need them not to. That is why you can call the `list_serial_ports` function to see all the ports on your computer, and you can simply use the correct port as a string input instead of using the `get_serial_port` function. The `cell_volume` and `drain_time` properties are already defined to 15 mL and 15 seconds, respectively, but you have the option of changing them here. Notice that a folder called *logs* is created with a file with the current timestamp in it - this is where the colors that you mix on this controller in this session will be stored.\n",
    "\n",
    "\n",
    "We start with the `config_template.json` file as the `config_file` to begin with, but we will make our own in this tutorial."
   ]
  },
  {
   "cell_type": "markdown",
   "metadata": {},
   "source": [
    "When initializing the bot, if the \"Arduino is ready\" command doesn't show up immediately, press the reset button on the Arduino."
   ]
  },
  {
   "cell_type": "code",
   "execution_count": null,
   "metadata": {},
   "outputs": [],
   "source": [
    "calibratebot = PumpController(ser_port = get_serial_port(), cell_volume = 20, drain_time = 20, config_file = 'config_files/config_template.json')"
   ]
  },
  {
   "cell_type": "markdown",
   "metadata": {},
   "source": [
    "For calibrating the pumps, we will not be using the test cell, but running the liquid from the respective bottles into a bottle on the scale. So removing the hoses from the test cell and place such that they dispense onto a bottle on the weighing scale."
   ]
  },
  {
   "cell_type": "markdown",
   "metadata": {},
   "source": [
    "Before doing anything else, we should purge all the pumps. This means filling all of the tubes with their respective liquids. We do this by using the `purge_pump` function, which takes the pump name ('R', 'G', 'B', 'Y', 'W', 'D') and the time to run the pump, as variables. Do this one-by-one until all tubes are filled with liquid. The drain tubes of course do not need to be purged. \n",
    "\n",
    "After purging the red, green, blue, yellow and water pumps, empty the weighing bottle."
   ]
  },
  {
   "cell_type": "code",
   "execution_count": null,
   "metadata": {},
   "outputs": [],
   "source": [
    "calibratebot.purge_pump('R', 3)\n",
    "\n",
    "# calibratebot.purge_pump('G', 3)\n",
    "# calibratebot.purge_pump('B', 3)\n",
    "# calibratebot.purge_pump('Y', 3)\n",
    "# calibratebot.purge_pump('W', 3)\n",
    "\n",
    "# Drain:\n",
    "# calibratebot.drain()\n",
    "\n",
    "# Drain for custom time (if required):\n",
    "# calibratebot.drain(drain_time = 10)\n",
    "\n",
    "# Flush:\n",
    "# calibratebot.flush()"
   ]
  },
  {
   "cell_type": "markdown",
   "metadata": {},
   "source": [
    "Now we want to calibrate the pumps. We need to figure out how many mL of water comes out of the pump for every second that we run it. We do this by running the pump for certains amounts of times and weigh the amount of liquid that is output. We can then do a linear regression in Excel to find the slope and the offset for each pump. As each pump is different, these values will also be different. \n",
    "\n",
    "\n",
    "The `calibration_test` function cycles through different amounts of time of running the pumps, and waits for 5 seconds. In these 5 seconds, your job is to read the measurement on the weighing scale and note it down in the Excel sheet."
   ]
  },
  {
   "cell_type": "code",
   "execution_count": null,
   "metadata": {},
   "outputs": [],
   "source": [
    "times = [0.1, 0.2, 0.4, 0.8, 1.0, 1.6, 2.0, 2.5, 3.0, 5.0, 7.0, 8.0]\n",
    "\n",
    "def calibration_test(pump, times):\n",
    "    for t in times:\n",
    "        calibratebot.purge_pump(pump, t)\n",
    "        print(f\"sleeping after {t} on {pump}\")\n",
    "        print(\"-----------\")\n",
    "        print()\n",
    "        \n",
    "        time.sleep(t + 5.0)"
   ]
  },
  {
   "cell_type": "markdown",
   "metadata": {},
   "source": [
    "Let us run the calibration now! Open up the `calibrate_files/pump_calibration_template.xlsx` file and get ready to note down the weights. Optimally, you should do three calibrations for each pump - this results in 6 x 3 = 18 calibrations. If you are pressed for time, just do one calibration per pump and copy the results to the other columns for the same pump. \n",
    "\n",
    "\n",
    "Finally, you can take the average `a` (slope) and `b` (intercept) values on the `Main` page of the Excel sheet and write them into a `config.json file`. A template for this is given in `config_files/config_template.json`. Do not change the `pin` values for the different pumps!"
   ]
  },
  {
   "cell_type": "code",
   "execution_count": null,
   "metadata": {},
   "outputs": [],
   "source": [
    "calibration_test('R', times)\n",
    "\n",
    "# calibration_test('G', times)\n",
    "# calibration_test('B', times)\n",
    "# calibration_test('Y', times)\n",
    "# calibration_test('W', times)\n",
    "# calibration_test('D', times)"
   ]
  },
  {
   "cell_type": "markdown",
   "metadata": {},
   "source": [
    "Take these calibration slope and intercept values for each of the pumps, and note them down in the `config.json` file"
   ]
  }
 ],
 "metadata": {
  "kernelspec": {
   "display_name": "Python 3",
   "language": "python",
   "name": "python3"
  },
  "language_info": {
   "codemirror_mode": {
    "name": "ipython",
    "version": 3
   },
   "file_extension": ".py",
   "mimetype": "text/x-python",
   "name": "python",
   "nbconvert_exporter": "python",
   "pygments_lexer": "ipython3",
   "version": "3.9.6"
  }
 },
 "nbformat": 4,
 "nbformat_minor": 2
}
