{
 "cells": [
  {
   "cell_type": "markdown",
   "metadata": {},
   "source": [
    "Now we go on to optimize the actual color mixer. The packages for the **PumpController** are imported as usual.\n",
    "\n",
    "\n",
    "Next, the odyssey modules are imported. These include the `Mission`, `SingleGP_Navigator`, `Sobol_Navigator` and `Objective`, and the acquisition functions `EI`, `LogEI`, `PI`, `LogPI` and `UCB`.\n",
    "\n",
    "Some additional packages are also imported."
   ]
  },
  {
   "cell_type": "code",
   "execution_count": 1,
   "metadata": {},
   "outputs": [
    {
     "name": "stderr",
     "output_type": "stream",
     "text": [
      "/Users/kshitijgambhir/Library/CloudStorage/OneDrive-DanmarksTekniskeUniversitet/Self-driving labs/Thesis/Kris/Code/47332-venv/lib/python3.9/site-packages/tqdm/auto.py:21: TqdmWarning: IProgress not found. Please update jupyter and ipywidgets. See https://ipywidgets.readthedocs.io/en/stable/user_install.html\n",
      "  from .autonotebook import tqdm as notebook_tqdm\n"
     ]
    }
   ],
   "source": [
    "# Pump Controller\n",
    "from pump_controller import PumpController, get_serial_port, list_serial_ports\n",
    "from pump_controller import visualize_rgb, visualize_candidates, read_logfile\n",
    "\n",
    "\n",
    "# Odyssey\n",
    "from odyssey.mission import Mission # Mission\n",
    "from odyssey.navigators import SingleGP_Navigator # Navigator\n",
    "from odyssey.navigators.sampler_navigators import Sobol_Navigator # Sampler\n",
    "from odyssey.navigators import ExpectedImprovement, ProbabilityOfImprovement, UpperConfidenceBound, LogExpectedImprovement, LogProbabilityOfImprovement # Acquisition\n",
    "from odyssey.objective import Objective # Objective\n",
    "\n",
    "# Other Packages\n",
    "import torch\n",
    "import numpy as np\n",
    "import pandas as pd    \n",
    "from IPython import display\n",
    "from warnings import catch_warnings, simplefilter\n"
   ]
  },
  {
   "cell_type": "markdown",
   "metadata": {},
   "source": [
    "We again define the `color_difference` function to find the match score between two colors"
   ]
  },
  {
   "cell_type": "code",
   "execution_count": 2,
   "metadata": {},
   "outputs": [],
   "source": [
    "# Difference between mixed and target colors:\n",
    "def color_difference(mixed_color, target_color):\n",
    "\n",
    "    mixed_color = np.array(mixed_color)\n",
    "    target_color = np.array(target_color)\n",
    "    # Calculate the sum of root mean squared differences between mixed color and target color\n",
    "    rmse = np.sqrt(np.mean((mixed_color - target_color)**2, axis=-1))\n",
    "    return np.sum(rmse)"
   ]
  },
  {
   "cell_type": "markdown",
   "metadata": {},
   "source": [
    "The pumpbot is initialized as before. You might want to change the `config_file` to your config file"
   ]
  },
  {
   "cell_type": "code",
   "execution_count": 3,
   "metadata": {},
   "outputs": [],
   "source": [
    "pumpbot = PumpController(ser_port=get_serial_port(), cell_volume=15, drain_time=15, config_file = 'config_files/config_template.json')"
   ]
  },
  {
   "cell_type": "markdown",
   "metadata": {},
   "source": [
    "The pumps and tubes are purged, if required"
   ]
  },
  {
   "cell_type": "code",
   "execution_count": null,
   "metadata": {},
   "outputs": [],
   "source": [
    "pumpbot.purge_pump('R', 5)\n",
    "\n",
    "# pumpbot.purge_pump('G', 5)\n",
    "# pumpbot.purge_pump('B', 5)\n",
    "# pumpbot.purge_pump('Y', 5)\n",
    "# pumpbot.purge_pump('W', 5)\n",
    "\n",
    "# Drain:\n",
    "# pumpbot.drain()\n",
    "\n",
    "# Drain for custom time:\n",
    "# pumpbot.drain(drain_time = 10)\n",
    "\n",
    "# Flush:\n",
    "# pumpbot.flush()"
   ]
  },
  {
   "cell_type": "markdown",
   "metadata": {},
   "source": [
    "The target color provided by the teacher is measured and the test cell is reset."
   ]
  },
  {
   "cell_type": "code",
   "execution_count": null,
   "metadata": {},
   "outputs": [],
   "source": [
    "pumpbot.target_color = pumpbot.measure()\n",
    "print(pumpbot.target_color)"
   ]
  },
  {
   "cell_type": "code",
   "execution_count": null,
   "metadata": {},
   "outputs": [],
   "source": [
    "pumpbot.reset()"
   ]
  },
  {
   "cell_type": "markdown",
   "metadata": {},
   "source": [
    "A function `find_score_from_color` is defined. This function is essentially the function to be optimized, as this takes in a color mixture, and outputs a score. For compatibility with **Odyssey**, the `Objective` module from **Odyssey** is used to convert this function."
   ]
  },
  {
   "cell_type": "code",
   "execution_count": 5,
   "metadata": {},
   "outputs": [],
   "source": [
    "def find_score_from_color(mixture):\n",
    "    measured_color = pumpbot.mix_color(mixture)\n",
    "    score = color_difference(measured_color, pumpbot.target_color)\n",
    "    return score\n",
    "\n",
    "objective = Objective(find_score_from_color)"
   ]
  },
  {
   "cell_type": "markdown",
   "metadata": {},
   "source": [
    "The **Odyssey** Mission is defined, with 4 `param_dims` (the input mixture values), 1 `output_dims` (the score), and we are trying to minimize this objective, so the `goal` is to descend. We want to initialize the model with 5 initiail points (`num_init_design`) and run the optimization for 10 points (`num_iter`). The `param_space` is the bounds of the input parameters. As each of the colors can be mixed from 0 to 1, we set these values for each color (1e-5 is used instead of 0 to avoid dividing by zero). The `Mission` can then be defined. \n",
    "\n",
    "\n",
    "Notice that a folder `missionlogs` has appeared in your directory with a log file with the current timestamp. All optimization points are logged here."
   ]
  },
  {
   "cell_type": "code",
   "execution_count": 6,
   "metadata": {},
   "outputs": [],
   "source": [
    "param_dims = 4\n",
    "output_dims = 1\n",
    "goals = ['descend']\n",
    "num_init_design = 5\n",
    "num_iter = 10\n",
    "\n",
    "\n",
    "min = 1e-5\n",
    "\n",
    "param_space = ([min, 1], [min, 1], [min, 1], [min, 1])\n",
    "\n",
    "# Define Mission\n",
    "mission = Mission(name = 'Color Mixing',\n",
    "                  funcs = [objective],\n",
    "                  maneuvers = goals,\n",
    "                  envelope = param_space)"
   ]
  },
  {
   "cell_type": "markdown",
   "metadata": {},
   "source": [
    "A `Navigator` object is now connected to the mission. This object will use an acquisition function to select attractive points in the parameters space to investigate. Here we have some more parameters such as the initial method and input scaling and data standardization for standardizing data going into the model, and also parameters for the acquisition functions. When this navigator is initialized, the number of `num_init_design` defined by the user are sampled using the defined `init_method`. In this case, Sobol Random Sampler is used to sample the initial points. It is important for the model to have some random points to search the space in order to start honing in to the optimum point(s). Refer to the lecture on Bayesian Optimizers for more information about the `Navigator` module."
   ]
  },
  {
   "cell_type": "code",
   "execution_count": null,
   "metadata": {},
   "outputs": [],
   "source": [
    "# Define Navigator\n",
    "navigator = SingleGP_Navigator(mission = mission,\n",
    "                               num_init_design = num_init_design,\n",
    "                               init_method = Sobol_Navigator(mission = mission),\n",
    "                               input_scaling = False,\n",
    "                               data_standardization = True,\n",
    "                               display_always_max = True,\n",
    "                               acq_function_type = ProbabilityOfImprovement,\n",
    "                               acq_function_params = {'best_f': 0.0})"
   ]
  },
  {
   "cell_type": "markdown",
   "metadata": {},
   "source": [
    "Now that we have some initial points to start from, we can start optimizing. The following is an optimization loop, that runs `num_iter` times. First the next point of investigation (`trajectory`) is suggested by the navigator. We probe this point to get an observation - in this we mix the suggested mixture and calculate the score. Then we relay the information to the mission, log the information and upgrade the model with the new information. The rest of the lines read the logfile of the pumpbot, calculate the scores again (in case you decide to change your scoring metric), and visualizes the results. Currently this is done every loop, but this can be done after optimization as well."
   ]
  },
  {
   "cell_type": "code",
   "execution_count": null,
   "metadata": {},
   "outputs": [],
   "source": [
    "while len(mission.train_X) - num_init_design < num_iter:\n",
    "\n",
    "    with catch_warnings() as w:\n",
    "        simplefilter('ignore')\n",
    "        \n",
    "        trajectory = navigator.trajectory()\n",
    "        observation = navigator.probe(trajectory, init = False)\n",
    "\n",
    "        navigator.relay(trajectory, observation)\n",
    "        navigator.upgrade()\n",
    "\n",
    "        logs = read_logfile(pumpbot.log_file)\n",
    "        logs['score'] = [color_difference(logs['measurement'][i], logs['target_measurement'][i]) for i in range(len(logs))]\n",
    "\n",
    "        display.clear_output(wait=True)\n",
    "        visualize_candidates(logs)\n",
    "        "
   ]
  },
  {
   "cell_type": "markdown",
   "metadata": {},
   "source": [
    "The best (in this case lowest) score can be found, along with the corresponding mixture and color measurement. These can then be visualized using the `visualize_rgb` function"
   ]
  },
  {
   "cell_type": "code",
   "execution_count": null,
   "metadata": {},
   "outputs": [],
   "source": [
    "best_idx = logs.score.argmin()\n",
    "\n",
    "best_score = logs.score[best_idx]\n",
    "best_mixture = logs.mixture[best_idx]\n",
    "best_color = logs.measurement[best_idx]\n",
    "\n",
    "print(f\"Score {best_score} at mixture {best_mixture} with color {best_color}\")\n"
   ]
  },
  {
   "cell_type": "code",
   "execution_count": null,
   "metadata": {},
   "outputs": [],
   "source": [
    "visualize_rgb(mixture = best_mixture,\n",
    "              rgb = best_color,\n",
    "              pump_controller = pumpbot,\n",
    "              target = pumpbot.target_color,\n",
    "              score = best_score\n",
    "              )"
   ]
  }
 ],
 "metadata": {
  "kernelspec": {
   "display_name": "47332-venv",
   "language": "python",
   "name": "python3"
  },
  "language_info": {
   "codemirror_mode": {
    "name": "ipython",
    "version": 3
   },
   "file_extension": ".py",
   "mimetype": "text/x-python",
   "name": "python",
   "nbconvert_exporter": "python",
   "pygments_lexer": "ipython3",
   "version": "3.9.6"
  }
 },
 "nbformat": 4,
 "nbformat_minor": 2
}
