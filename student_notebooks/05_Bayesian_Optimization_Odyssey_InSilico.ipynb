{
 "cells": [
  {
   "cell_type": "markdown",
   "metadata": {},
   "source": [
    "# *In silico* Bayesian optimization with Odyssey\n",
    "\n",
    "We are now moving away from the local optimizer and use the *real world* Bayesian optimizer in a similar way that you used the SciPy optimizers in `02_Color_Mixing_and_Optimization_InSilico.ipynb`. \n",
    "\n",
    "You will be using [**Odyssey**](https://odyssey-auto-lab-de98adb48801ec6a9ad6d1738d8ce68e811b24234385b9.gitlab.io/), Python-based Bayesian optimization framework developed internally at DTU. You will move on to the PumpBot in the next exercise, so make sure you do proper coding and experiment with parameters in this exercise to make the next one easier. \n",
    "\n",
    "You have already gotten a good taste of coding your own Bayesian optimizer in the `04_Bayesian_Optimization_Tutorial.ipynb`, \n",
    "but you are generally better off using one of the readily available Bayesian optimizers unless you have something \n",
    "very specific in mind. Many of these are built on top of [BoTorch](https://botorch.org/), a very popular Bayesian optimization library in Python.\n",
    "\n",
    "Please take some time to read the [Structure of Odyssey](https://odyssey-auto-lab-de98adb48801ec6a9ad6d1738d8ce68e811b24234385b9.gitlab.io/getting-started/structure/) to have an overview its design.\n",
    "\n",
    "Let's start by importing `Odyssey` and some additional packages."
   ]
  },
  {
   "cell_type": "code",
   "execution_count": null,
   "metadata": {},
   "outputs": [],
   "source": [
    "# Odyssey \n",
    "from odyssey.mission import Mission # Mission\n",
    "from odyssey.objective import Objective # Objective\n",
    "from odyssey.navigators import SingleGP_Navigator # Navigator\n",
    "from odyssey.navigators.sampler_navigators import Sobol_Navigator, Grid_Navigator # Sampler\n",
    "from odyssey.navigators import ExpectedImprovement, ProbabilityOfImprovement, UpperConfidenceBound, LogExpectedImprovement, LogProbabilityOfImprovement # Acquisition functions\n",
    "\n",
    "# Other Packages\n",
    "import torch\n",
    "import numpy as np\n",
    "import pandas as pd   \n",
    "import matplotlib.pyplot as plt\n",
    "from IPython import display\n",
    "from warnings import catch_warnings, simplefilter"
   ]
  },
  {
   "cell_type": "markdown",
   "metadata": {},
   "source": [
    "You can see that seeral classes are imported, including `Mission`, `Objective`, `SingleGP_Navigator`, `Sobol_Navigator`, `Grid_Navigator`, and the acquisition functions `ExpectedImprovement`, `LogEI`, `ProbabilityOfImprovement`, `UpperConfidenceBound`, `LogExpectedImprovement`, and `LogProbabilityOfImprovement`. You should read more about these here:\n",
    "\n",
    "- [Mission](https://odyssey-auto-lab-de98adb48801ec6a9ad6d1738d8ce68e811b24234385b9.gitlab.io/api_reference/mission/)\n",
    "- [Objective](https://odyssey-auto-lab-de98adb48801ec6a9ad6d1738d8ce68e811b24234385b9.gitlab.io/api_reference/objective/#odyssey.objective.Objective)\n",
    "- Single Objective Navigator:\n",
    "    - [SingleGP_Navigator](https://odyssey-auto-lab-de98adb48801ec6a9ad6d1738d8ce68e811b24234385b9.gitlab.io/api_reference/navigators/#odyssey.navigators.SingleGP_Navigator)\n",
    "- Sampler Navigator:\n",
    "    - [Sobol Sampler Navigator](https://odyssey-auto-lab-de98adb48801ec6a9ad6d1738d8ce68e811b24234385b9.gitlab.io/api_reference/navigators/#odyssey.navigators.sampler_navigators.Sobol_Navigator)\n",
    "- [Acquisition Functions](https://odyssey-auto-lab-de98adb48801ec6a9ad6d1738d8ce68e811b24234385b9.gitlab.io/api_reference/acquisition_functions/)"
   ]
  },
  {
   "cell_type": "markdown",
   "metadata": {},
   "source": [
    "## Exercise 1: Optimization of Single-Input-Single-Output (SISO) function\n",
    "\n",
    "Let's start with a (very) simple example of finding the global minimum of the function below for $x \\in [-5, 5]$."
   ]
  },
  {
   "cell_type": "code",
   "execution_count": null,
   "metadata": {},
   "outputs": [],
   "source": [
    "def simple_function(x):\n",
    "    val = x ** 4 - 10 * x**2 + 5 * x\n",
    "    return val/100"
   ]
  },
  {
   "cell_type": "markdown",
   "metadata": {},
   "source": [
    "Let's visualize the `simple_function` to see where the minimum values are."
   ]
  },
  {
   "cell_type": "code",
   "execution_count": null,
   "metadata": {},
   "outputs": [],
   "source": [
    "test_X = torch.linspace(-5, 5, 1000)\n",
    "test_Y = simple_function(test_X)\n",
    "\n",
    "plt.figure(figsize=(6, 4))\n",
    "plt.plot(test_X, test_Y, color='black')\n",
    "plt.xlabel('Input Parameter')\n",
    "plt.ylabel('Output Value')\n",
    "plt.show()"
   ]
  },
  {
   "cell_type": "markdown",
   "metadata": {},
   "source": [
    "You can see that there are two local minima: $x \\approx -2.35$ and $x \\approx +2.1$. The first one is the global minimum. \n",
    "\n",
    "We now proceed to find the global minimum using Odyssey. We start our \"mission\" (also often called campaign) using Odyssey's `Mission` class, which takes several attributes.  \n",
    "\n",
    "```python\n",
    "mission = Misson(name='Name of your mission',\n",
    "                 funcs=[],\n",
    "                 maneuvers=goals,\n",
    "                 envelope=param_space)\n",
    "```\n",
    "\n",
    "The `funcs` is a list of objective functions, while `manuevers` is a list of goals, which can be either ascend (i.e., finding global maximum) or descend (i.e., finding global minimum). We start by creating an objective function for Odyssey using our `simple_function`."
   ]
  },
  {
   "cell_type": "code",
   "execution_count": null,
   "metadata": {},
   "outputs": [],
   "source": [
    "objective = Objective(func=simple_function)"
   ]
  },
  {
   "cell_type": "markdown",
   "metadata": {},
   "source": [
    "Next up, we initialize our mission. Note that `func` and `maneuvers` are list of length one for a single-objective optimization. The lengths of these attributes are longer for the multi-objective cases. "
   ]
  },
  {
   "cell_type": "code",
   "execution_count": null,
   "metadata": {},
   "outputs": [],
   "source": [
    "mission = Mission(name=\"Minimizing a simple function\",\n",
    "                  funcs=[objective],\n",
    "                  maneuvers=['descend'],\n",
    "                  envelope=[(-5.0, 5.0)])"
   ]
  },
  {
   "cell_type": "markdown",
   "metadata": {},
   "source": [
    "We have now defined our mission by specifying our objective function, whether we would like to find a maximum/minimum, and the boundaries of the domain we would like to explore. The next step is to specify how we would like to navigate through our search space, and we achieve this using `Navigator`. \n",
    "\n",
    "We use `SingleGP_Navigator` for single-objective Bayesian optimization, which employs a single Gaussian Process (GP) model to approximate the objective function and guide the search for the optimal solution using an acquisition function. The first step of the optimization sequence to explore a fixed set of initial data points before using the acquisition function. Let's explore 3 initial points, which is selected in a uniform fashion by dividing our search space into grids. Once the initial points are explored, we will continue the optimization by using `ExpectedImprovement` as an acquisition function. "
   ]
  },
  {
   "cell_type": "code",
   "execution_count": null,
   "metadata": {},
   "outputs": [],
   "source": [
    "num_init_points = 3\n",
    "navigator = SingleGP_Navigator(mission=mission,\n",
    "                               num_init_design=num_init_points,\n",
    "                               input_scaling=False,\n",
    "                               data_standardization=False,\n",
    "                               init_method=Grid_Navigator(mission=mission, subdivisions=num_init_points),\n",
    "                               acq_function_type=ExpectedImprovement,\n",
    "                               acq_function_params={'best_f': 0.0}\n",
    ")"
   ]
  },
  {
   "cell_type": "markdown",
   "metadata": {},
   "source": [
    "Although it was not so obvious, initantiating the navigator above has already selected 3 points and evaluated the objective function. You can see that by plotting the objective function and the observed points. Since we can use these functionalities multiple times, let's make them into functions."
   ]
  },
  {
   "cell_type": "code",
   "execution_count": null,
   "metadata": {},
   "outputs": [],
   "source": [
    "def calculate_posterior():\n",
    "    model = navigator.model\n",
    "    pred_mean = -model.posterior(test_X).mean.detach().squeeze()\n",
    "    pred_std = torch.sqrt(model.posterior(test_X).variance).detach().squeeze()\n",
    "    return (pred_mean, pred_std)"
   ]
  },
  {
   "cell_type": "code",
   "execution_count": null,
   "metadata": {},
   "outputs": [],
   "source": [
    "def plot_progres():\n",
    "    fig, ax = plt.subplots(figsize=(10, 6))\n",
    "    pred_mean, pred_std = calculate_posterior()\n",
    "    # Real function\n",
    "    ax.plot(test_X, test_Y, color='red', label='Real Function')\n",
    "    # Measurements\n",
    "    ax.scatter(mission.display_X, mission.display_Y, color = 'k', marker = '.', label='Measurements')\n",
    "    # Posterior model and uncertainty\n",
    "    ax.plot(test_X.squeeze(), pred_mean, color = 'g', linestyle = 'dashed', label = 'Posterior Model')\n",
    "    ax.fill_between(test_X.squeeze(), pred_mean - 2*pred_std, pred_mean + 2*pred_std, color  ='g', alpha = 0.3, label = 'Posterior Uncertainty')\n",
    "\n",
    "    ax.set_xlabel('Input Parameter')\n",
    "    ax.set_ylabel('Output Value')\n",
    "    ax.title.set_text(f'Iteration: {len(mission.train_X) - num_init_points}, new x = {trajectory.item():.3f}, y = {observation.item():.3f}')\n",
    "    ax.legend()\n",
    "\n",
    "    plt.show()"
   ]
  },
  {
   "cell_type": "code",
   "execution_count": null,
   "metadata": {},
   "outputs": [],
   "source": [
    "num_iter = 10\n",
    "\n",
    "from warnings import catch_warnings\n",
    "from warnings import simplefilter\n",
    "\n",
    "while len(mission.train_X) - num_init_points < num_iter:\n",
    "    with catch_warnings() as w:\n",
    "        simplefilter('ignore')\n",
    "        trajectory = navigator.trajectory()\n",
    "        observation = navigator.probe(trajectory, init = False)\n",
    "        navigator.relay(trajectory, observation)\n",
    "        navigator.upgrade()\n",
    "        \n",
    "        display.clear_output(wait=True) # This will help you remove figures as you go\n",
    "        plot_progres()\n",
    "        input('Press Enter to proceed.')"
   ]
  },
  {
   "cell_type": "markdown",
   "metadata": {},
   "source": [
    "You are **strongly** encouraged to experiment with different acquisition functions and parameters, including the `num_iter` value to see how the optimization progresses if you let it run longer. Once you are done with the optimization, you can run the cell below to see what is the best observed point is. "
   ]
  },
  {
   "cell_type": "code",
   "execution_count": null,
   "metadata": {},
   "outputs": [],
   "source": [
    "best_idx = mission.display_Y.argmin().item()\n",
    "best_input = mission.display_X[best_idx].item()\n",
    "best_output = mission.display_Y[best_idx].item()\n",
    "\n",
    "print(f'Best Input: {best_input}')\n",
    "print(f'Best Output: {best_output}')"
   ]
  },
  {
   "cell_type": "markdown",
   "metadata": {},
   "source": [
    "## Exercise 2: Single-Input-Single-Output (SISO) function with noise\n",
    "\n",
    "You have completed the most basic optimization. Let's make this a bit more challenging by adding some noise. Please read through the example from the Odyssey documentation [here](https://odyssey-auto-lab-de98adb48801ec6a9ad6d1738d8ce68e811b24234385b9.gitlab.io/examples/single-objective-optimization/) and run it yourself in the cells below. \n",
    "\n",
    "Feel free to add more cells as you need."
   ]
  },
  {
   "cell_type": "code",
   "execution_count": null,
   "metadata": {},
   "outputs": [],
   "source": [
    "# place for your code"
   ]
  },
  {
   "cell_type": "code",
   "execution_count": null,
   "metadata": {},
   "outputs": [],
   "source": [
    "# place for your code"
   ]
  },
  {
   "cell_type": "code",
   "execution_count": null,
   "metadata": {},
   "outputs": [],
   "source": [
    "# place for your code"
   ]
  },
  {
   "cell_type": "code",
   "execution_count": null,
   "metadata": {},
   "outputs": [],
   "source": [
    "# place for your code"
   ]
  },
  {
   "cell_type": "markdown",
   "metadata": {},
   "source": [
    "## Exercise 3: Moving on to the color mixing\n",
    "\n",
    "You have learned what you need to know about Odyssey! It is time to get back to the color mixing. \n",
    "\n",
    "As usual, we use `SilicoPumpController` of pump_controller module to simulate the color mixing. In case you have forgotten, you can read more about the different classes and methods in the pump_controller module [here](https://www.student.dtu.dk/~s193903/47332/).\n",
    "\n",
    "Reusing your code from the first *in silico* exercise, figure out how to mix the taget color below using Odyssey.\n",
    "\n",
    "You will use this code on the pumpbot tomorrow, so be thorough and make sure to include breakpoints during the function calls. Plotting progress using `visualize_candidates()` function will be very helpful in understanding how the optimization is progressing and whether or no you are satisfied with the results. "
   ]
  },
  {
   "cell_type": "code",
   "execution_count": null,
   "metadata": {},
   "outputs": [],
   "source": [
    "# Pump Controller\n",
    "from pump_controller import SilicoPumpController, visualize_rgb, visualize_candidates, read_logfile"
   ]
  },
  {
   "cell_type": "code",
   "execution_count": null,
   "metadata": {},
   "outputs": [],
   "source": [
    "target_color = [164., 176., 84.]"
   ]
  },
  {
   "cell_type": "code",
   "execution_count": null,
   "metadata": {},
   "outputs": [],
   "source": [
    "# Let's have some noise to keep it real.\n",
    "silicobot = SilicoPumpController(noise_std = 3)"
   ]
  },
  {
   "cell_type": "code",
   "execution_count": null,
   "metadata": {},
   "outputs": [],
   "source": [
    "# function for getting the color difference\n",
    "def color_difference(mixed_color, target_color):\n",
    "    # your code goes here."
   ]
  },
  {
   "cell_type": "code",
   "execution_count": null,
   "metadata": {},
   "outputs": [],
   "source": [
    "# This is going to be your objective function\n",
    "def find_score_from_color(mixture):\n",
    "    # take the mixture [R, G, B, Y] and return the score. \n"
   ]
  },
  {
   "cell_type": "code",
   "execution_count": null,
   "metadata": {},
   "outputs": [],
   "source": [
    "# place for your code"
   ]
  },
  {
   "cell_type": "code",
   "execution_count": null,
   "metadata": {},
   "outputs": [],
   "source": [
    "# place for your code"
   ]
  },
  {
   "cell_type": "code",
   "execution_count": null,
   "metadata": {},
   "outputs": [],
   "source": [
    "# place for your code"
   ]
  },
  {
   "cell_type": "code",
   "execution_count": null,
   "metadata": {},
   "outputs": [],
   "source": [
    "# place for your code.  Add more as needed."
   ]
  },
  {
   "cell_type": "markdown",
   "metadata": {},
   "source": [
    "When you are done, find the best observed point and plot its composition and color, taget color, and score using `visualize_rgb()` function."
   ]
  },
  {
   "cell_type": "code",
   "execution_count": null,
   "metadata": {},
   "outputs": [],
   "source": [
    "# place for your code."
   ]
  },
  {
   "cell_type": "markdown",
   "metadata": {},
   "source": [
    "## Exercise 4: Re-using the old data\n",
    "\n",
    "You may have noticed that the optimizations we have performed so far (both local and Bayesian optimizers) did not make use of previously collected data. Whenever you start a new optimization (i.e., initializing a mission or loading a local optimizer), you essentially start from scratch. Clearly, this is not ideal, especially if you have already collected some data from previous experiments.\n",
    "\n",
    "Odyssey has a feature of loading previously generated data using `DataLoader`. You can find its documentation and example [here](https://odyssey-auto-lab-de98adb48801ec6a9ad6d1738d8ce68e811b24234385b9.gitlab.io/api_reference/navigators/#dataloader).\n",
    "\n",
    "You start by loading the `DataLoader` as shown below."
   ]
  },
  {
   "cell_type": "code",
   "execution_count": null,
   "metadata": {},
   "outputs": [],
   "source": [
    "from odyssey.navigators import DataLoader"
   ]
  },
  {
   "cell_type": "markdown",
   "metadata": {},
   "source": [
    "Using the first simple function case as an example, the cell below will load the data from the previously generated CSV files, which is then passed to the navigator as an `init_method`. Note that the warning message will be there if your `num_init_design` value is less than what was loaded from the `DataLoader`. The example below will only load the first 3 cases. Make changes to its value, depending on how many data points you would like to load."
   ]
  },
  {
   "cell_type": "code",
   "execution_count": null,
   "metadata": {},
   "outputs": [],
   "source": [
    "# change the names of the files to match what you like to load\n",
    "datafiles = ['missionlogs/Minimizing a simple function-110624_130807.csv', \n",
    "             'missionlogs/Minimizing a simple function-110624_132237.csv']\n",
    "\n",
    "objective = Objective(func=simple_function)\n",
    "\n",
    "mission = Mission(name=\"Minimizing a simple function\",\n",
    "                  funcs=[objective],\n",
    "                  maneuvers=['descend'],\n",
    "                  envelope=[(-5.0, 5.0)])\n",
    "\n",
    "num_init_points = 3\n",
    "navigator = SingleGP_Navigator(mission=mission,\n",
    "                               num_init_design=num_init_points,\n",
    "                               input_scaling=False,\n",
    "                               data_standardization=False,\n",
    "                               init_method=DataLoader(mission = mission, datafiles = datafiles),\n",
    "                               acq_function_type=ExpectedImprovement,\n",
    "                               acq_function_params={'best_f': 0.0}\n",
    ")"
   ]
  },
  {
   "cell_type": "markdown",
   "metadata": {},
   "source": [
    "There you go! Now you know how to load data from the previous work.\n",
    "\n",
    "This concludes todays notebook."
   ]
  }
 ],
 "metadata": {
  "interpreter": {
   "hash": "c1bceae1b0f30ee21e0b335445df0019c1035ce0f130113777dc9bc85664ba25"
  },
  "kernelspec": {
   "display_name": "Python 3.9.11 ('47332-2022': venv)",
   "language": "python",
   "name": "python3"
  },
  "language_info": {
   "codemirror_mode": {
    "name": "ipython",
    "version": 3
   },
   "file_extension": ".py",
   "mimetype": "text/x-python",
   "name": "python",
   "nbconvert_exporter": "python",
   "pygments_lexer": "ipython3",
   "version": "3.10.13"
  }
 },
 "nbformat": 4,
 "nbformat_minor": 2
}
