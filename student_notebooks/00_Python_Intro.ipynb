{
 "cells": [
  {
   "cell_type": "markdown",
   "id": "f83fbded-fc76-4c3d-8c9b-92af09741f45",
   "metadata": {
    "collapsed": false,
    "ein.tags": "worksheet-0",
    "slideshow": {
     "slide_type": "-"
    }
   },
   "source": [
    "# Python Intro"
   ]
  },
  {
   "cell_type": "markdown",
   "id": "440f6803-5ffd-4c21-88fd-b66c3c99a98e",
   "metadata": {
    "collapsed": false,
    "ein.tags": "worksheet-0",
    "slideshow": {
     "slide_type": "-"
    }
   },
   "source": [
    "[Python](https://www.python.org/) is one of the [most used](https://octoverse.github.com/2022/top-programming-languages) programming language. The popularity comes from many factors:\n",
    "\n",
    "- Easy to use (especially in Jupyter notebooks)\n",
    "- Applicable in many areas (data science, web development, ...)\n",
    "- Scripts can easily take advantage of a large amount of free open source software packages\n",
    "- Simple yet powerful\n",
    "\n",
    "We will use Python in this course as it will allow us to work with different machine learning ([scikit-learn](https://scikit-learn.org/stable/)), optimization ([odyssey](https://gitlab.com/auto_lab/odyssey)) and data science ([pandas](https://pandas.pydata.org/)) packages.\n",
    "\n",
    "In this notebook we will go through some important concepts in Python. These concepts will be important for the next exercises that will focus on optimising the performance of a Arduino color-mixing robot.\n",
    "\n"
   ]
  },
  {
   "cell_type": "markdown",
   "id": "89b65ca3-6189-4799-956c-7d7d37b2a736",
   "metadata": {
    "collapsed": false,
    "ein.tags": "worksheet-0",
    "slideshow": {
     "slide_type": "-"
    }
   },
   "source": [
    "## Contents\n",
    "If you already are proficient in a topic you can skip it and move on to the next.\n",
    "\n",
    "- [Python basics](#python_basics)\n",
    "    - [Datastructures](#datastructures)\n",
    "    - [Functions](#functions)\n",
    "    - [Conditional statements](#conditional)\n",
    "    - [Loops](#loops)\n",
    "\n",
    "- [Numpy and SciPy](#numpy)\n",
    "- [Plotting with matplotlib](#matplotlib)\n",
    "\n"
   ]
  },
  {
   "cell_type": "markdown",
   "id": "e9b20427-97b7-4567-9a52-61814170e3a6",
   "metadata": {
    "collapsed": false,
    "ein.tags": "worksheet-0",
    "slideshow": {
     "slide_type": "-"
    }
   },
   "source": [
    "## Python basics\n",
    "<a id=\"python_basics\"></a>\n",
    "\n",
    "Python has a wealth of [online documentation](https://docs.python.org/3/library/index.html#the-python-standard-library) and it is very easy to find answers to most of your questions on sites like [stackoverflow](https://stackoverflow.com/questions/tagged/python?sort=frequent&pageSize=15)"
   ]
  },
  {
   "cell_type": "code",
   "execution_count": null,
   "id": "97a8366d-bf0d-4df0-84dc-92c14c15c5c7",
   "metadata": {
    "autoscroll": false,
    "collapsed": false,
    "ein.hycell": false,
    "ein.tags": "worksheet-0",
    "jupyter": {
     "outputs_hidden": false
    },
    "slideshow": {
     "slide_type": "-"
    }
   },
   "outputs": [],
   "source": [
    "2 + 3"
   ]
  },
  {
   "cell_type": "code",
   "execution_count": null,
   "id": "35c51469-8cf1-4052-ad8e-dd6504032da5",
   "metadata": {
    "autoscroll": false,
    "collapsed": false,
    "ein.hycell": false,
    "ein.tags": "worksheet-0",
    "jupyter": {
     "outputs_hidden": false
    },
    "slideshow": {
     "slide_type": "-"
    }
   },
   "outputs": [],
   "source": [
    "10 / 5"
   ]
  },
  {
   "cell_type": "code",
   "execution_count": null,
   "id": "b3a77b54-7799-42eb-9df0-6ba519e6bfd4",
   "metadata": {
    "autoscroll": false,
    "collapsed": false,
    "ein.hycell": false,
    "ein.tags": "worksheet-0",
    "jupyter": {
     "outputs_hidden": false
    },
    "slideshow": {
     "slide_type": "-"
    }
   },
   "outputs": [],
   "source": [
    "3 * 4"
   ]
  },
  {
   "cell_type": "code",
   "execution_count": null,
   "id": "2a486d97-1fb2-4bdf-8955-5b4588f86c58",
   "metadata": {
    "autoscroll": false,
    "collapsed": false,
    "ein.hycell": false,
    "ein.tags": "worksheet-0",
    "jupyter": {
     "outputs_hidden": false
    },
    "slideshow": {
     "slide_type": "-"
    }
   },
   "outputs": [],
   "source": [
    "a = 3\n",
    "b = 2\n",
    "c = a ** b\n",
    "print(c)"
   ]
  },
  {
   "cell_type": "code",
   "execution_count": null,
   "id": "20a619c6-5947-4451-b629-7ca2e7a763bf",
   "metadata": {
    "autoscroll": false,
    "collapsed": false,
    "ein.hycell": false,
    "ein.tags": "worksheet-0",
    "jupyter": {
     "outputs_hidden": false
    },
    "slideshow": {
     "slide_type": "-"
    }
   },
   "outputs": [],
   "source": [
    "s = 'c ='\n",
    "print(s, c)"
   ]
  },
  {
   "cell_type": "code",
   "execution_count": null,
   "id": "0cf7957f-7f67-46a3-9da3-02e08f879992",
   "metadata": {
    "autoscroll": false,
    "collapsed": false,
    "ein.hycell": false,
    "ein.tags": "worksheet-0",
    "jupyter": {
     "outputs_hidden": false
    },
    "slideshow": {
     "slide_type": "-"
    }
   },
   "outputs": [],
   "source": [
    "print('c = {}'.format(c))"
   ]
  },
  {
   "cell_type": "code",
   "execution_count": null,
   "id": "741b23fc-2dff-46e5-b5d9-5b35c5370e97",
   "metadata": {
    "collapsed": false
   },
   "outputs": [],
   "source": [
    "print(f'c = {c}')"
   ]
  },
  {
   "cell_type": "markdown",
   "id": "a27dba5c-9b88-4a09-b924-2ba1adb757c4",
   "metadata": {
    "collapsed": false,
    "ein.tags": "worksheet-0",
    "slideshow": {
     "slide_type": "-"
    }
   },
   "source": [
    "### Datastructures\n",
    "<a id=\"datastructures\"></a>\n",
    "\n",
    "A `list` is an ordered collection of arbitrary objects"
   ]
  },
  {
   "cell_type": "code",
   "execution_count": null,
   "id": "bf3e547c-7471-46ec-8f88-1f4613d2685e",
   "metadata": {
    "autoscroll": false,
    "collapsed": false,
    "ein.hycell": false,
    "ein.tags": "worksheet-0",
    "jupyter": {
     "outputs_hidden": false
    },
    "slideshow": {
     "slide_type": "-"
    }
   },
   "outputs": [],
   "source": [
    "l = [1, 'name', [1, 2, 3], 1.2]\n",
    "print(l[0])  # first element\n",
    "print(l[-1])  # last element\n",
    "print(l[1:3])  # slice notation"
   ]
  },
  {
   "cell_type": "code",
   "execution_count": null,
   "id": "35fd3151-e207-4a25-8b9a-8a695d947769",
   "metadata": {
    "autoscroll": false,
    "collapsed": false,
    "ein.hycell": false,
    "ein.tags": "worksheet-0",
    "jupyter": {
     "outputs_hidden": false
    },
    "slideshow": {
     "slide_type": "-"
    }
   },
   "outputs": [],
   "source": [
    "l[1] = 'newname'\n",
    "print(l)"
   ]
  },
  {
   "cell_type": "markdown",
   "id": "8f3ef504-4dca-46db-90b0-45bdccb4d330",
   "metadata": {
    "collapsed": false,
    "ein.tags": "worksheet-0",
    "slideshow": {
     "slide_type": "-"
    }
   },
   "source": [
    "A `tuple` is also an ordered collection but it is *immutable*"
   ]
  },
  {
   "cell_type": "code",
   "execution_count": null,
   "id": "3520490b-940d-4520-b859-c7a894669782",
   "metadata": {
    "autoscroll": false,
    "collapsed": false,
    "ein.hycell": false,
    "ein.tags": "worksheet-0",
    "jupyter": {
     "outputs_hidden": false
    },
    "slideshow": {
     "slide_type": "-"
    }
   },
   "outputs": [],
   "source": [
    "t = (2, 3)\n",
    "print(t)"
   ]
  },
  {
   "cell_type": "code",
   "execution_count": null,
   "id": "edc42414-aa82-4dbe-968f-92b8167ec396",
   "metadata": {
    "autoscroll": false,
    "collapsed": false,
    "ein.hycell": false,
    "ein.tags": "worksheet-0",
    "jupyter": {
     "outputs_hidden": false
    },
    "slideshow": {
     "slide_type": "-"
    }
   },
   "outputs": [],
   "source": [
    "t[0] = 4  # not possible since tuple is immutable"
   ]
  },
  {
   "cell_type": "markdown",
   "id": "f8de744e-ecdb-400e-809f-2c50ba1853b3",
   "metadata": {
    "collapsed": false,
    "ein.tags": "worksheet-0",
    "slideshow": {
     "slide_type": "-"
    }
   },
   "source": [
    "A `dict` is a mapping from keys to values"
   ]
  },
  {
   "cell_type": "code",
   "execution_count": null,
   "id": "a8edb862-af92-41cc-bd64-ead400f47206",
   "metadata": {
    "autoscroll": false,
    "collapsed": false,
    "ein.hycell": false,
    "ein.tags": "worksheet-0",
    "jupyter": {
     "outputs_hidden": false
    },
    "slideshow": {
     "slide_type": "-"
    }
   },
   "outputs": [],
   "source": [
    "d = {'a': 'b', 'b': 5, (2, 3): 7}\n",
    "print(d)\n",
    "print(d['a'])\n",
    "d[tuple([2, 3])]\n",
    "print(d[d['a']])"
   ]
  },
  {
   "cell_type": "markdown",
   "id": "6ec8be67-7d48-4ccf-b355-88f2d5bcd6ac",
   "metadata": {
    "collapsed": false,
    "ein.tags": "worksheet-0",
    "slideshow": {
     "slide_type": "-"
    }
   },
   "source": [
    "### Functions\n",
    "<a id=\"functions\"></a>\n",
    "\n"
   ]
  },
  {
   "cell_type": "code",
   "execution_count": null,
   "id": "d2cefd61-54fa-4f82-9b5a-7847d9a27f16",
   "metadata": {
    "autoscroll": false,
    "collapsed": false,
    "ein.hycell": false,
    "ein.tags": "worksheet-0",
    "jupyter": {
     "outputs_hidden": false
    },
    "slideshow": {
     "slide_type": "-"
    }
   },
   "outputs": [],
   "source": [
    "def f(a, n=2, m=1):\n",
    "    y = a + n + m\n",
    "    return y"
   ]
  },
  {
   "cell_type": "code",
   "execution_count": null,
   "id": "096c8db2-379e-4b02-b62c-06cd22c76825",
   "metadata": {
    "autoscroll": false,
    "collapsed": false,
    "ein.hycell": false,
    "ein.tags": "worksheet-0",
    "jupyter": {
     "outputs_hidden": false
    },
    "slideshow": {
     "slide_type": "-"
    }
   },
   "outputs": [],
   "source": [
    "print(f(3))\n"
   ]
  },
  {
   "cell_type": "code",
   "execution_count": null,
   "id": "df49508b-fb3c-4807-8e10-8509937c4458",
   "metadata": {
    "autoscroll": false,
    "collapsed": false,
    "ein.hycell": false,
    "ein.tags": "worksheet-0",
    "jupyter": {
     "outputs_hidden": false
    },
    "slideshow": {
     "slide_type": "-"
    }
   },
   "outputs": [],
   "source": [
    "print(f(4, m=2, n=6))"
   ]
  },
  {
   "cell_type": "code",
   "execution_count": null,
   "id": "6bee1d6e-057f-42cb-855c-d536f3d74446",
   "metadata": {
    "autoscroll": false,
    "collapsed": false,
    "ein.hycell": false,
    "ein.tags": "worksheet-0",
    "jupyter": {
     "outputs_hidden": false
    },
    "slideshow": {
     "slide_type": "-"
    }
   },
   "outputs": [],
   "source": [
    "print(f(m=1, n=8, a=1))"
   ]
  },
  {
   "cell_type": "code",
   "execution_count": null,
   "id": "8290823e-499e-49ef-9592-8f82e75cde20",
   "metadata": {
    "collapsed": false
   },
   "outputs": [],
   "source": [
    "dct = {'a': 1, 'n': 2, 'm': 3}\n",
    "print(f(**dct))"
   ]
  },
  {
   "cell_type": "markdown",
   "id": "2eae8d3e-7a50-4da3-a781-1ab86d7fe101",
   "metadata": {
    "collapsed": false,
    "ein.tags": "worksheet-0",
    "slideshow": {
     "slide_type": "-"
    }
   },
   "source": [
    "### Conditional statements\n",
    "<a id=\"conditional\"></a>\n"
   ]
  },
  {
   "cell_type": "code",
   "execution_count": null,
   "id": "415820b0-35fa-4df8-8831-f9706f817db0",
   "metadata": {
    "autoscroll": false,
    "collapsed": false,
    "ein.hycell": false,
    "ein.tags": "worksheet-0",
    "jupyter": {
     "outputs_hidden": false
    },
    "slideshow": {
     "slide_type": "-"
    }
   },
   "outputs": [],
   "source": [
    "x = 1\n",
    "if x > 2:\n",
    "    print('Greater than 2')\n",
    "else:\n",
    "    print('Less than 2')"
   ]
  },
  {
   "cell_type": "code",
   "execution_count": null,
   "id": "19997bfb-d14f-4f97-84f4-c4336d210401",
   "metadata": {
    "autoscroll": false,
    "collapsed": false,
    "ein.hycell": false,
    "ein.tags": "worksheet-0",
    "jupyter": {
     "outputs_hidden": false
    },
    "slideshow": {
     "slide_type": "-"
    }
   },
   "outputs": [],
   "source": [
    "# value exists in list\n",
    "if x in l:\n",
    "    print('{} is in the list: {}'.format(x, l))\n",
    "else:\n",
    "    print('{} is not in the list: {}'.format(x, l))\n"
   ]
  },
  {
   "cell_type": "markdown",
   "id": "1e503c28-4f57-4115-a05a-9f79068d9f5b",
   "metadata": {
    "collapsed": false,
    "ein.tags": "worksheet-0",
    "slideshow": {
     "slide_type": "-"
    }
   },
   "source": [
    "### Loops\n",
    "<a id=\"loops\"></a>\n"
   ]
  },
  {
   "cell_type": "code",
   "execution_count": null,
   "id": "20f8d928-e17a-4625-8b94-1cb4dbf50819",
   "metadata": {
    "autoscroll": false,
    "collapsed": false,
    "ein.hycell": false,
    "ein.tags": "worksheet-0",
    "jupyter": {
     "outputs_hidden": false
    },
    "slideshow": {
     "slide_type": "-"
    }
   },
   "outputs": [],
   "source": [
    "for i in range(10):\n",
    "    print(i)\n",
    "print('Done!')"
   ]
  },
  {
   "cell_type": "code",
   "execution_count": null,
   "id": "6e77bee7-8408-412b-ab5b-0561f4e5ac91",
   "metadata": {
    "autoscroll": false,
    "collapsed": false,
    "ein.hycell": false,
    "ein.tags": "worksheet-0",
    "jupyter": {
     "outputs_hidden": false
    },
    "slideshow": {
     "slide_type": "-"
    }
   },
   "outputs": [],
   "source": [
    "# loop with conditional statement\n",
    "for i in range(10):\n",
    "    if i%2 == 0:\n",
    "        print(i**2)\n",
    "print('Done!')"
   ]
  },
  {
   "cell_type": "code",
   "execution_count": null,
   "id": "c3eeb04d-d4fa-4778-b2e4-c6784aa39036",
   "metadata": {
    "autoscroll": false,
    "collapsed": false,
    "ein.hycell": false,
    "ein.tags": "worksheet-0",
    "jupyter": {
     "outputs_hidden": false
    },
    "slideshow": {
     "slide_type": "-"
    }
   },
   "outputs": [],
   "source": [
    "# appending to a list in a loop\n",
    "l = []\n",
    "for i in range(10):\n",
    "    if i%2 == 0:\n",
    "        l.append(i**2)\n",
    "print(l)"
   ]
  },
  {
   "cell_type": "code",
   "execution_count": null,
   "id": "ccdf389c-e363-49a4-93a7-76ea8c6489b5",
   "metadata": {
    "autoscroll": false,
    "collapsed": false,
    "ein.hycell": false,
    "ein.tags": "worksheet-0",
    "jupyter": {
     "outputs_hidden": false
    },
    "slideshow": {
     "slide_type": "-"
    }
   },
   "outputs": [],
   "source": [
    "# list comprehension\n",
    "[i**2 for i in range(10) if i%2 == 0]  # list comprehension"
   ]
  },
  {
   "cell_type": "markdown",
   "id": "20108087-3c3a-4024-876c-737d3f722340",
   "metadata": {
    "collapsed": false,
    "ein.tags": "worksheet-0",
    "slideshow": {
     "slide_type": "-"
    }
   },
   "source": [
    "## NumPy\n",
    "<a id=\"numpy\"></a>\n",
    "\n",
    "[NumPy](https://docs.scipy.org/doc/numpy-1.15.1/reference/) and [SciPy](https://docs.scipy.org/doc/scipy-1.1.0/reference/) (SciPy will not be covered here) are packages extremely useful for scientific computing. The name is a contraction of *Num*erical *Py*thon. The NumPy module defines an `ndarray` type that can hold large arrays of uniform multidimensional numeric data. It is similar to a simple Python `list` but is a lot more powerful and efficient."
   ]
  },
  {
   "cell_type": "code",
   "execution_count": null,
   "id": "33acea29-62db-4290-8a6b-1767c3a57a1c",
   "metadata": {
    "autoscroll": false,
    "collapsed": false,
    "ein.hycell": false,
    "ein.tags": "worksheet-0",
    "jupyter": {
     "outputs_hidden": false
    },
    "slideshow": {
     "slide_type": "-"
    }
   },
   "outputs": [],
   "source": [
    "# One dimensional array\n",
    "import numpy as np\n",
    "x = np.array([1, 2, 3])\n",
    "print(x.mean())\n",
    "print(x.std())"
   ]
  },
  {
   "cell_type": "code",
   "execution_count": null,
   "id": "7fca9fc9-24b6-4e32-bf19-628da3808fed",
   "metadata": {
    "autoscroll": false,
    "collapsed": false,
    "ein.hycell": false,
    "ein.tags": "worksheet-0",
    "jupyter": {
     "outputs_hidden": false
    },
    "slideshow": {
     "slide_type": "-"
    }
   },
   "outputs": [],
   "source": [
    "# Multidimensional array\n",
    "a = np.array([[1, 2, 3], [7, 8, 9]])\n",
    "print(a.shape)\n",
    "print(a.T)  # transpose matrix"
   ]
  },
  {
   "cell_type": "code",
   "execution_count": null,
   "id": "db190db5-8dd0-4f14-8323-499715aad097",
   "metadata": {
    "autoscroll": false,
    "collapsed": false,
    "ein.hycell": false,
    "ein.tags": "worksheet-0",
    "jupyter": {
     "outputs_hidden": false
    },
    "slideshow": {
     "slide_type": "-"
    }
   },
   "outputs": [],
   "source": [
    "# Multiplication\n",
    "m = np.array([[1, 2], [3, 4]])\n",
    "\n",
    "print(m * m)  # element-wise multiplication\n",
    "print(np.dot(m, m))  # matrix multiplication\n",
    "print(m @ m)  # also matrix multiplication"
   ]
  },
  {
   "cell_type": "code",
   "execution_count": null,
   "id": "9e8ddb10-41b4-4870-8730-db12f8333c73",
   "metadata": {
    "autoscroll": false,
    "collapsed": false,
    "ein.hycell": false,
    "ein.tags": "worksheet-0",
    "jupyter": {
     "outputs_hidden": false
    },
    "slideshow": {
     "slide_type": "-"
    }
   },
   "outputs": [],
   "source": [
    "# Addition and subtraction works element wise\n",
    "v1 = np.array([4, 5, 6])\n",
    "v2 = np.array([3, 8, 2])\n",
    "\n",
    "print(v1 + v2)\n",
    "print(v1 - v2)"
   ]
  },
  {
   "cell_type": "code",
   "execution_count": null,
   "id": "38562b47-d48c-4cbd-a22f-73cf8f500351",
   "metadata": {
    "autoscroll": false,
    "collapsed": false,
    "ein.hycell": false,
    "ein.tags": "worksheet-0",
    "jupyter": {
     "outputs_hidden": false
    },
    "slideshow": {
     "slide_type": "-"
    }
   },
   "outputs": [],
   "source": [
    "# not so for python lists\n",
    "v1 = [4, 5, 6]\n",
    "v2 = [3, 8, 2]\n",
    "\n",
    "print(v1 + v2)"
   ]
  },
  {
   "cell_type": "code",
   "execution_count": null,
   "id": "11512c97-fa1b-49d4-a3c7-71c4ed195171",
   "metadata": {
    "autoscroll": false,
    "collapsed": false,
    "ein.hycell": false,
    "ein.tags": "worksheet-0",
    "jupyter": {
     "outputs_hidden": false
    },
    "slideshow": {
     "slide_type": "-"
    }
   },
   "outputs": [],
   "source": [
    "print(v1 - v2)  # not supported"
   ]
  },
  {
   "cell_type": "markdown",
   "id": "2440a3e4-577d-4da8-a33f-2808698939c7",
   "metadata": {
    "collapsed": false
   },
   "source": [
    "Numpy arrays are optimized for only one datatype at a time. If you need to put multiple datatypes into an array you are probably better of just using a standard list."
   ]
  },
  {
   "cell_type": "code",
   "execution_count": null,
   "id": "7fc9a025-167f-427e-bd90-ec550396c66a",
   "metadata": {
    "collapsed": false
   },
   "outputs": [],
   "source": [
    "l = [1, 'name', [1, 2, 3], 1.2]\n",
    "np.array(l)"
   ]
  },
  {
   "cell_type": "markdown",
   "id": "728550eb-78d5-4912-a055-4c099c00c61e",
   "metadata": {
    "collapsed": false,
    "ein.tags": "worksheet-0",
    "slideshow": {
     "slide_type": "-"
    }
   },
   "source": [
    "## Plotting with matplotlib\n",
    "<a id=\"matplotlib\"></a>\n",
    "\n",
    "Matplotlib is a basic plotting library. It is very powerful and the standard within Python scientific computing."
   ]
  },
  {
   "cell_type": "code",
   "execution_count": null,
   "id": "f6ce299c-32b2-4f44-aa40-9d38e53a9936",
   "metadata": {
    "autoscroll": false,
    "collapsed": false,
    "ein.hycell": false,
    "ein.tags": "worksheet-0",
    "jupyter": {
     "outputs_hidden": false
    },
    "slideshow": {
     "slide_type": "-"
    }
   },
   "outputs": [],
   "source": [
    "# In a Jupyter Notebook, this magic line gives nice inline figures.\n",
    "# This line MUST appear before you import matplotlib or a package using matplotlib (e.g. ase)\n",
    "%matplotlib inline\n",
    "import matplotlib.pyplot as plt\n",
    "import numpy as np\n",
    "\n",
    "datapoints = [(0, 0), (1, 1)]  # [(x0, y0), (x1, y1)]\n",
    "x, y = zip(*datapoints)  # unzip datapoints, reverse would be: datapoints = zip(x, y)\n",
    "plt.plot(x, y)"
   ]
  },
  {
   "cell_type": "code",
   "execution_count": null,
   "id": "f0bf517c-2ab1-48a3-b5c6-4f5a6b3fd75e",
   "metadata": {
    "autoscroll": false,
    "collapsed": false,
    "ein.hycell": false,
    "ein.tags": "worksheet-0",
    "jupyter": {
     "outputs_hidden": false
    },
    "slideshow": {
     "slide_type": "-"
    }
   },
   "outputs": [],
   "source": [
    "# Sine and cosine on two plots side by side\n",
    "\n",
    "fig, axs = plt.subplots(1, 2, sharey=True)\n",
    "x = np.linspace(0, 2 * np.pi, 100)\n",
    "axs[0].plot(x, np.cos(x), label='cos')\n",
    "axs[1].plot(x, np.sin(x), label='sin')\n",
    "for ax in axs:\n",
    "    ax.legend()\n",
    "plt.show()"
   ]
  },
  {
   "cell_type": "code",
   "execution_count": null,
   "id": "6384cacf-8fa5-4c82-8f8e-b4602887f701",
   "metadata": {
    "autoscroll": false,
    "collapsed": false,
    "ein.hycell": false,
    "ein.tags": "worksheet-0",
    "jupyter": {
     "outputs_hidden": false
    },
    "slideshow": {
     "slide_type": "-"
    }
   },
   "outputs": [],
   "source": [
    "help(plt.subplots)"
   ]
  }
 ],
 "metadata": {
  "interpreter": {
   "hash": "c1bceae1b0f30ee21e0b335445df0019c1035ce0f130113777dc9bc85664ba25"
  },
  "kernelspec": {
   "argv": [
    "python",
    "-m",
    "ipykernel_launcher",
    "-f",
    "{connection_file}"
   ],
   "display_name": "Python 3 (ipykernel)",
   "env": null,
   "interrupt_mode": "signal",
   "language": "python",
   "metadata": {
    "debugger": true
   },
   "name": "python3"
  },
  "language_info": {
   "codemirror_mode": {
    "name": "ipython",
    "version": 3
   },
   "file_extension": ".py",
   "mimetype": "text/x-python",
   "name": "python",
   "nbconvert_exporter": "python",
   "pygments_lexer": "ipython3",
   "version": "3.9.11"
  },
  "name": "00_Python_Intro.ipynb"
 },
 "nbformat": 4,
 "nbformat_minor": 4
}
