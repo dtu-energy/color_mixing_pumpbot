{
 "cells": [
  {
   "cell_type": "markdown",
   "metadata": {},
   "source": [
    "# SilicoPumpController Setup"
   ]
  },
  {
   "cell_type": "markdown",
   "metadata": {},
   "source": [
    "**SilicoPumpController** is a digital version of the **PumpController** that you see before you. With this digital version, you can test all of your code before deploying on the actual **PumpController**. \n",
    "\n",
    "Start by installing the necessary packages for use of the **SilicoPumpController**. These include the controller itself, the a visualization function and the numpy (NUMerical PYthon) package."
   ]
  },
  {
   "cell_type": "code",
   "execution_count": null,
   "metadata": {},
   "outputs": [],
   "source": [
    "from pump_controller import SilicoPumpController, visualize_rgb\n",
    "import numpy as np"
   ]
  },
  {
   "cell_type": "markdown",
   "metadata": {},
   "source": [
    "You can read more about the different classes and methods in the pump_controller module [here](https://www.student.dtu.dk/~s193903/47332/)."
   ]
  },
  {
   "cell_type": "markdown",
   "metadata": {},
   "source": [
    "The silicobot is initialized with a noise value of $3$, meaning that your measurements won't always be the same but contain some noise. Notice that when you instantiate a silicobot, you also generate a file with the current timestamp under the *logs* folder in your current directory. All the colors that you mix will be stored here!"
   ]
  },
  {
   "cell_type": "code",
   "execution_count": null,
   "metadata": {},
   "outputs": [],
   "source": [
    "silicobot = SilicoPumpController(noise_std = 3)"
   ]
  },
  {
   "cell_type": "markdown",
   "metadata": {},
   "source": [
    "In reality, you do not know the components of the target color that you want to match, but can only measure its color. For the Silico case, you must create your own target color. This is done by using the `change_target` function of the silicobot. This function mixes a color with the given mixture amounts and stores that color."
   ]
  },
  {
   "cell_type": "code",
   "execution_count": null,
   "metadata": {},
   "outputs": [],
   "source": [
    "silicobot.change_target([0.1, 0.2, 0.3, 0.4])"
   ]
  },
  {
   "cell_type": "markdown",
   "metadata": {},
   "source": [
    "Both of these properties are stored in the variables `silicobot.target_mixture` and `silicobot.target_color`"
   ]
  },
  {
   "cell_type": "code",
   "execution_count": null,
   "metadata": {},
   "outputs": [],
   "source": [
    "print(silicobot.target_mixture)\n",
    "print(silicobot.target_color)"
   ]
  },
  {
   "cell_type": "markdown",
   "metadata": {},
   "source": [
    "For comparing two colors $c1$ and $c2$ to get a match score, a function is created. In this case, the `color_difference` function implements a simple sum of root mean squared differences between the two colors. You can try creating your own functions as well."
   ]
  },
  {
   "cell_type": "code",
   "execution_count": null,
   "metadata": {},
   "outputs": [],
   "source": [
    "# Difference between mixed and target colors:\n",
    "def color_difference(mixed_color, target_color):\n",
    "\n",
    "    mixed_color = np.array(mixed_color)\n",
    "    target_color = np.array(target_color)\n",
    "    # Calculate the sum of root mean squared differences between mixed color and target color\n",
    "    rmse = np.sqrt(np.mean((mixed_color - target_color)**2, axis=-1))\n",
    "    return np.sum(rmse)"
   ]
  },
  {
   "cell_type": "markdown",
   "metadata": {},
   "source": [
    "Now to the fun part! You can mix a new color using the `mix_color` function and the color mixture that you decide. The `mix_color` function mixes the color, measures it and logs it as well. You can then use the `color_difference` function we defined earlier to find a match score."
   ]
  },
  {
   "cell_type": "code",
   "execution_count": null,
   "metadata": {},
   "outputs": [],
   "source": [
    "mixture_to_mix = [0.4, 0.3, 0.2, 0.1]\n",
    "measured_color = silicobot.mix_color(mixture_to_mix)\n",
    "\n",
    "print(f\"Measured Color: {measured_color}\")\n",
    "print(f\"Target Color: {silicobot.target_color}\")"
   ]
  },
  {
   "cell_type": "code",
   "execution_count": null,
   "metadata": {},
   "outputs": [],
   "source": [
    "score = color_difference(measured_color, silicobot.target_color)\n",
    "print(f\"Score: {score}\")"
   ]
  },
  {
   "cell_type": "markdown",
   "metadata": {},
   "source": [
    "We can now compare the color that you mixed with the target color using the `visualize_rgb` function. In this visualization, the outer-most ring shows the color mixture that you used to mix the color. The large ring shows that color that you actually mixed and the inner circle shows the target color. The number in the middle is the score. If you just want your mixed color, simply set the `target` and `score` properties to `None`."
   ]
  },
  {
   "cell_type": "code",
   "execution_count": null,
   "metadata": {},
   "outputs": [],
   "source": [
    "visualize_rgb(mixture = mixture_to_mix,\n",
    "              rgb = measured_color,\n",
    "              pump_controller = silicobot,\n",
    "              target = silicobot.target_color,\n",
    "              score = score\n",
    "              )"
   ]
  },
  {
   "cell_type": "markdown",
   "metadata": {},
   "source": [
    "This concludes the introduction to **SilicoPumpController**. This is very similar to the **PumpController** so that your code is easily deployable. "
   ]
  }
 ],
 "metadata": {
  "kernelspec": {
   "display_name": "47332-venv",
   "language": "python",
   "name": "python3"
  },
  "language_info": {
   "codemirror_mode": {
    "name": "ipython",
    "version": 3
   },
   "file_extension": ".py",
   "mimetype": "text/x-python",
   "name": "python",
   "nbconvert_exporter": "python",
   "pygments_lexer": "ipython3",
   "version": "3.9.6"
  }
 },
 "nbformat": 4,
 "nbformat_minor": 2
}
