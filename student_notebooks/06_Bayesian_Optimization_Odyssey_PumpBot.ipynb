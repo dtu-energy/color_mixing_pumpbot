{
 "cells": [
  {
   "cell_type": "markdown",
   "metadata": {},
   "source": [
    "# Bayesian optimization with Odyssey using PumpBot"
   ]
  },
  {
   "cell_type": "markdown",
   "metadata": {},
   "source": [
    "Welcome back! \n",
    "\n",
    "As you are getting better at python and are building toolbox using *in silico* exercises, these notebooks will become thinner, provide less code, and require more of you. You will get far by using your old notebooks and copy/paste cells from those into this.\n",
    "\n",
    "Rather than holding your hands for each step, this notebook will only provide a (brief) guideline on what you should do. You will need to combine what you have learned in the previous PumpBot exercise and *in silico* Bayesian optimization exercise.\n",
    "\n",
    "## Step 1: Load your previous PumpBot data\n",
    "\n",
    "As Odyssey can load all the data you have produced using the PumpBot to improve the convergence speed, we should collect it. That will be the first step you take in this notebook. \n",
    "\n",
    "To aid the optimizer, we will \"mix\" the pure colors, should that those points are also in the dataset, you will be feeding it."
   ]
  },
  {
   "cell_type": "code",
   "execution_count": null,
   "metadata": {},
   "outputs": [],
   "source": [
    "# Import all necessary modules and functions"
   ]
  },
  {
   "cell_type": "code",
   "execution_count": null,
   "metadata": {},
   "outputs": [],
   "source": [
    "# Use DataLoader to load all PumpBot data. Careful NOT to load your in silico data here."
   ]
  },
  {
   "cell_type": "code",
   "execution_count": null,
   "metadata": {},
   "outputs": [],
   "source": [
    "# Define objective, mission and navigator"
   ]
  },
  {
   "cell_type": "code",
   "execution_count": null,
   "metadata": {},
   "outputs": [],
   "source": [
    "# Initialize your PumpController"
   ]
  },
  {
   "cell_type": "code",
   "execution_count": null,
   "metadata": {},
   "outputs": [],
   "source": [
    "# Add more cells as you wish! "
   ]
  },
  {
   "cell_type": "markdown",
   "metadata": {},
   "source": [
    "## Step 2: Start Bayesian optimization!"
   ]
  },
  {
   "cell_type": "markdown",
   "metadata": {},
   "source": [
    "Ask your TA to provide the target color(s) for you to work with. \n",
    "\n",
    "\n",
    "You will have to do all the code yourselves in this notebook by putting together pieces of code from your past exercises.\n",
    "\n",
    "Make sure you that you need to include all of the newly-generated data points whenever you start the new optimization sequence (instantiating a navigator). If not, you will not make use of the latest data points."
   ]
  },
  {
   "cell_type": "code",
   "execution_count": null,
   "metadata": {},
   "outputs": [],
   "source": [
    "# Your code goes here."
   ]
  }
 ],
 "metadata": {
  "interpreter": {
   "hash": "c1bceae1b0f30ee21e0b335445df0019c1035ce0f130113777dc9bc85664ba25"
  },
  "kernelspec": {
   "display_name": "Python 3.9.11 ('47332-2022': venv)",
   "language": "python",
   "name": "python3"
  },
  "language_info": {
   "codemirror_mode": {
    "name": "ipython",
    "version": 3
   },
   "file_extension": ".py",
   "mimetype": "text/x-python",
   "name": "python",
   "nbconvert_exporter": "python",
   "pygments_lexer": "ipython3",
   "version": "3.9.11"
  }
 },
 "nbformat": 4,
 "nbformat_minor": 4
}
