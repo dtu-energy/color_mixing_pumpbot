{
 "cells": [
  {
   "cell_type": "markdown",
   "metadata": {},
   "source": [
    "Import the necessary modules for the **PumpController**"
   ]
  },
  {
   "cell_type": "code",
   "execution_count": 1,
   "metadata": {},
   "outputs": [],
   "source": [
    "from pump_controller import PumpController, get_serial_port, list_serial_ports\n",
    "from pump_controller import visualize_rgb, visualize_candidates\n",
    "import time\n",
    "import numpy as np"
   ]
  },
  {
   "cell_type": "markdown",
   "metadata": {},
   "source": [
    "### Calibrations"
   ]
  },
  {
   "cell_type": "markdown",
   "metadata": {},
   "source": [
    "Now we initialize the calibratebot. We need to figure out which port that the controller is connected to your computer. The `get_serial_port` should automatically do this for you, but things have a way of failing when you need them not to. That is why you can call the `list_serial_ports` function to see all the ports on your computer, and you can simply use the correct port as a string input instead of using the `get_serial_port` function. The `cell_volume` and `drain_time` properties are already defined to 15 mL and 15 seconds, respectively, but you have the option of changing them here. Notice that a folder called *logs* is created with a file with the current timestamp in it - this is where the colors that you mix on this controller in this session will be stored.\n",
    "\n",
    "\n",
    "We start with the `config_template.json` file as the `config_file` to begin with, but we will make our own in this tutorial."
   ]
  },
  {
   "cell_type": "code",
   "execution_count": 4,
   "metadata": {},
   "outputs": [
    {
     "name": "stdout",
     "output_type": "stream",
     "text": [
      "Serial port /dev/cu.usbserial-210 opened at baud rate 9600\n",
      "Arduino is ready\n"
     ]
    }
   ],
   "source": [
    "calibratebot = PumpController(ser_port = get_serial_port(), cell_volume = 15, drain_time = 15, config_file = 'config_files/config_template.json')"
   ]
  },
  {
   "cell_type": "markdown",
   "metadata": {},
   "source": [
    "Before doing anything else, we should purge all the pumps. This means filling all of the tubes with their respective liquids. We do this by using the `purge_pump` function, which takes the pump name ('R', 'G', 'B', 'Y', 'W', 'D') and time as variables. Do this one-by-one until all tubes are filled with liquid. The drain tubes of course do not need to be purged. If you are filling up the test cell, you can then drain the test cell using the `drain` function which by itself drains the whole cell for the defined drain time in the previous cell, but you can also define a custom drain time here. If needed you can also flush the cell with water using the `flush` function and then drain again."
   ]
  },
  {
   "cell_type": "code",
   "execution_count": 5,
   "metadata": {},
   "outputs": [
    {
     "name": "stdout",
     "output_type": "stream",
     "text": [
      "Sent from PC -- TEST STR -- <Mix,2,3>\n",
      "Reply Received  Msg Mix,2,3 Time 99\n",
      "===========\n"
     ]
    }
   ],
   "source": [
    "calibratebot.purge_pump('R', 3)\n",
    "\n",
    "# calibratebot.purge_pump('G', 5)\n",
    "# calibratebot.purge_pump('B', 5)\n",
    "# calibratebot.purge_pump('Y', 5)\n",
    "# calibratebot.purge_pump('W', 5)\n",
    "\n",
    "# Drain:\n",
    "# calibratebot.drain()\n",
    "\n",
    "# Drain for custom time:\n",
    "# calibratebot.drain(drain_time = 10)\n",
    "\n",
    "# Flush:\n",
    "# calibratebot.flush()"
   ]
  },
  {
   "cell_type": "markdown",
   "metadata": {},
   "source": [
    "Now we want to calibrate the pumps. We need to figure out how many mL of water comes out of the pump for every second that we run it. We do this by running the pump for certains amounts of times and weigh the amount of liquid that is output. We can then do a linear regression in Excel to find the slope and the offset for each pump. As each pump is different, these values will also be different. \n",
    "\n",
    "\n",
    "The `calibration_test` function cycles through different amounts of time of running the pumps, and waits for 5 seconds. In these 5 seconds, your job is to read the measurement on the weighing scale and note it down in the excel sheet."
   ]
  },
  {
   "cell_type": "code",
   "execution_count": 118,
   "metadata": {},
   "outputs": [],
   "source": [
    "times = [0.1, 0.2, 0.4, 0.8, 1.0, 1.6, 2.0, 2.5, 3.0, 5.0, 7.0, 8.0]\n",
    "\n",
    "def calibration_test(pump, times):\n",
    "    for t in times:\n",
    "        calibratebot.purge_pump(pump, t)\n",
    "        print(f\"sleeping after {t} on {pump}\")\n",
    "        print(\"-----------\")\n",
    "        print()\n",
    "        \n",
    "        time.sleep(t + 5.0)"
   ]
  },
  {
   "cell_type": "markdown",
   "metadata": {},
   "source": [
    "Let us run the calibration now!"
   ]
  },
  {
   "cell_type": "code",
   "execution_count": 121,
   "metadata": {},
   "outputs": [
    {
     "name": "stdout",
     "output_type": "stream",
     "text": [
      "Sent from PC -- TEST STR -- <Mix,6,0.1>\n",
      "Reply Received  Msg Mix,6,0.1 Time 1763\n",
      "===========\n",
      "sleeping after 0.1 on W\n",
      "-----------\n",
      "\n",
      "Sent from PC -- TEST STR -- <Mix,6,0.2>\n",
      "Reply Received  Msg Mix,6,0.2 Time 1773\n",
      "===========\n",
      "sleeping after 0.2 on W\n",
      "-----------\n",
      "\n",
      "Sent from PC -- TEST STR -- <Mix,6,0.4>\n",
      "Reply Received  Msg Mix,6,0.4 Time 1783\n",
      "===========\n",
      "sleeping after 0.4 on W\n",
      "-----------\n",
      "\n",
      "Sent from PC -- TEST STR -- <Mix,6,0.8>\n",
      "Reply Received  Msg Mix,6,0.8 Time 1794\n",
      "===========\n",
      "sleeping after 0.8 on W\n",
      "-----------\n",
      "\n",
      "Sent from PC -- TEST STR -- <Mix,6,1.0>\n",
      "Reply Received  Msg Mix,6,1.0 Time 1805\n",
      "===========\n",
      "sleeping after 1.0 on W\n",
      "-----------\n",
      "\n",
      "Sent from PC -- TEST STR -- <Mix,6,1.6>\n",
      "Reply Received  Msg Mix,6,1.6 Time 1817\n",
      "===========\n",
      "sleeping after 1.6 on W\n",
      "-----------\n",
      "\n",
      "Sent from PC -- TEST STR -- <Mix,6,2.0>\n",
      "Reply Received  Msg Mix,6,2.0 Time 1830\n",
      "===========\n",
      "sleeping after 2.0 on W\n",
      "-----------\n",
      "\n",
      "Sent from PC -- TEST STR -- <Mix,6,2.5>\n",
      "Reply Received  Msg Mix,6,2.5 Time 1844\n",
      "===========\n",
      "sleeping after 2.5 on W\n",
      "-----------\n",
      "\n",
      "Sent from PC -- TEST STR -- <Mix,6,3.0>\n",
      "Reply Received  Msg Mix,6,3.0 Time 1859\n",
      "===========\n",
      "sleeping after 3.0 on W\n",
      "-----------\n",
      "\n",
      "Sent from PC -- TEST STR -- <Mix,6,5.0>\n",
      "Reply Received  Msg Mix,6,5.0 Time 1874\n",
      "===========\n",
      "sleeping after 5.0 on W\n",
      "-----------\n",
      "\n",
      "Sent from PC -- TEST STR -- <Mix,6,7.0>\n",
      "Reply Received  Msg Mix,6,7.0 Time 1894\n",
      "===========\n",
      "sleeping after 7.0 on W\n",
      "-----------\n",
      "\n",
      "Sent from PC -- TEST STR -- <Mix,6,8.0>\n",
      "Reply Received  Msg Mix,6,8.0 Time 1918\n",
      "===========\n",
      "sleeping after 8.0 on W\n",
      "-----------\n",
      "\n"
     ]
    }
   ],
   "source": [
    "calibration_test('R', times)\n",
    "\n",
    "# calibration_test('G', times)\n",
    "# calibration_test('B', times)\n",
    "# calibration_test('Y', times)\n",
    "# calibration_test('W', times)\n",
    "# calibration_test('D', times)"
   ]
  },
  {
   "cell_type": "markdown",
   "metadata": {},
   "source": [
    "Take these calibration slope and intercept values for each of the pumps, and note them down in the `config.json` file"
   ]
  }
 ],
 "metadata": {
  "kernelspec": {
   "display_name": "Python 3",
   "language": "python",
   "name": "python3"
  },
  "language_info": {
   "codemirror_mode": {
    "name": "ipython",
    "version": 3
   },
   "file_extension": ".py",
   "mimetype": "text/x-python",
   "name": "python",
   "nbconvert_exporter": "python",
   "pygments_lexer": "ipython3",
   "version": "3.9.6"
  }
 },
 "nbformat": 4,
 "nbformat_minor": 2
}
